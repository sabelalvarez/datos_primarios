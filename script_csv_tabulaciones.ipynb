{
  "nbformat": 4,
  "nbformat_minor": 0,
  "metadata": {
    "colab": {
      "provenance": []
    },
    "kernelspec": {
      "name": "python3",
      "display_name": "Python 3"
    },
    "language_info": {
      "name": "python"
    }
  },
  "cells": [
    {
      "cell_type": "code",
      "source": [
        "#Cargamos el archivo CSV de GBIF en Google Colab\n",
        "\n",
        "from google.colab import files\n",
        "uploaded = files.upload()"
      ],
      "metadata": {
        "colab": {
          "base_uri": "https://localhost:8080/",
          "height": 73
        },
        "id": "mEYAurv_ugJF",
        "outputId": "3b99a864-9590-41a6-fb7f-ccedacfd9dfa"
      },
      "execution_count": null,
      "outputs": [
        {
          "output_type": "display_data",
          "data": {
            "text/plain": [
              "<IPython.core.display.HTML object>"
            ],
            "text/html": [
              "\n",
              "     <input type=\"file\" id=\"files-079c2dc5-b402-492b-8427-c8ea812c64b8\" name=\"files[]\" multiple disabled\n",
              "        style=\"border:none\" />\n",
              "     <output id=\"result-079c2dc5-b402-492b-8427-c8ea812c64b8\">\n",
              "      Upload widget is only available when the cell has been executed in the\n",
              "      current browser session. Please rerun this cell to enable.\n",
              "      </output>\n",
              "      <script>// Copyright 2017 Google LLC\n",
              "//\n",
              "// Licensed under the Apache License, Version 2.0 (the \"License\");\n",
              "// you may not use this file except in compliance with the License.\n",
              "// You may obtain a copy of the License at\n",
              "//\n",
              "//      http://www.apache.org/licenses/LICENSE-2.0\n",
              "//\n",
              "// Unless required by applicable law or agreed to in writing, software\n",
              "// distributed under the License is distributed on an \"AS IS\" BASIS,\n",
              "// WITHOUT WARRANTIES OR CONDITIONS OF ANY KIND, either express or implied.\n",
              "// See the License for the specific language governing permissions and\n",
              "// limitations under the License.\n",
              "\n",
              "/**\n",
              " * @fileoverview Helpers for google.colab Python module.\n",
              " */\n",
              "(function(scope) {\n",
              "function span(text, styleAttributes = {}) {\n",
              "  const element = document.createElement('span');\n",
              "  element.textContent = text;\n",
              "  for (const key of Object.keys(styleAttributes)) {\n",
              "    element.style[key] = styleAttributes[key];\n",
              "  }\n",
              "  return element;\n",
              "}\n",
              "\n",
              "// Max number of bytes which will be uploaded at a time.\n",
              "const MAX_PAYLOAD_SIZE = 100 * 1024;\n",
              "\n",
              "function _uploadFiles(inputId, outputId) {\n",
              "  const steps = uploadFilesStep(inputId, outputId);\n",
              "  const outputElement = document.getElementById(outputId);\n",
              "  // Cache steps on the outputElement to make it available for the next call\n",
              "  // to uploadFilesContinue from Python.\n",
              "  outputElement.steps = steps;\n",
              "\n",
              "  return _uploadFilesContinue(outputId);\n",
              "}\n",
              "\n",
              "// This is roughly an async generator (not supported in the browser yet),\n",
              "// where there are multiple asynchronous steps and the Python side is going\n",
              "// to poll for completion of each step.\n",
              "// This uses a Promise to block the python side on completion of each step,\n",
              "// then passes the result of the previous step as the input to the next step.\n",
              "function _uploadFilesContinue(outputId) {\n",
              "  const outputElement = document.getElementById(outputId);\n",
              "  const steps = outputElement.steps;\n",
              "\n",
              "  const next = steps.next(outputElement.lastPromiseValue);\n",
              "  return Promise.resolve(next.value.promise).then((value) => {\n",
              "    // Cache the last promise value to make it available to the next\n",
              "    // step of the generator.\n",
              "    outputElement.lastPromiseValue = value;\n",
              "    return next.value.response;\n",
              "  });\n",
              "}\n",
              "\n",
              "/**\n",
              " * Generator function which is called between each async step of the upload\n",
              " * process.\n",
              " * @param {string} inputId Element ID of the input file picker element.\n",
              " * @param {string} outputId Element ID of the output display.\n",
              " * @return {!Iterable<!Object>} Iterable of next steps.\n",
              " */\n",
              "function* uploadFilesStep(inputId, outputId) {\n",
              "  const inputElement = document.getElementById(inputId);\n",
              "  inputElement.disabled = false;\n",
              "\n",
              "  const outputElement = document.getElementById(outputId);\n",
              "  outputElement.innerHTML = '';\n",
              "\n",
              "  const pickedPromise = new Promise((resolve) => {\n",
              "    inputElement.addEventListener('change', (e) => {\n",
              "      resolve(e.target.files);\n",
              "    });\n",
              "  });\n",
              "\n",
              "  const cancel = document.createElement('button');\n",
              "  inputElement.parentElement.appendChild(cancel);\n",
              "  cancel.textContent = 'Cancel upload';\n",
              "  const cancelPromise = new Promise((resolve) => {\n",
              "    cancel.onclick = () => {\n",
              "      resolve(null);\n",
              "    };\n",
              "  });\n",
              "\n",
              "  // Wait for the user to pick the files.\n",
              "  const files = yield {\n",
              "    promise: Promise.race([pickedPromise, cancelPromise]),\n",
              "    response: {\n",
              "      action: 'starting',\n",
              "    }\n",
              "  };\n",
              "\n",
              "  cancel.remove();\n",
              "\n",
              "  // Disable the input element since further picks are not allowed.\n",
              "  inputElement.disabled = true;\n",
              "\n",
              "  if (!files) {\n",
              "    return {\n",
              "      response: {\n",
              "        action: 'complete',\n",
              "      }\n",
              "    };\n",
              "  }\n",
              "\n",
              "  for (const file of files) {\n",
              "    const li = document.createElement('li');\n",
              "    li.append(span(file.name, {fontWeight: 'bold'}));\n",
              "    li.append(span(\n",
              "        `(${file.type || 'n/a'}) - ${file.size} bytes, ` +\n",
              "        `last modified: ${\n",
              "            file.lastModifiedDate ? file.lastModifiedDate.toLocaleDateString() :\n",
              "                                    'n/a'} - `));\n",
              "    const percent = span('0% done');\n",
              "    li.appendChild(percent);\n",
              "\n",
              "    outputElement.appendChild(li);\n",
              "\n",
              "    const fileDataPromise = new Promise((resolve) => {\n",
              "      const reader = new FileReader();\n",
              "      reader.onload = (e) => {\n",
              "        resolve(e.target.result);\n",
              "      };\n",
              "      reader.readAsArrayBuffer(file);\n",
              "    });\n",
              "    // Wait for the data to be ready.\n",
              "    let fileData = yield {\n",
              "      promise: fileDataPromise,\n",
              "      response: {\n",
              "        action: 'continue',\n",
              "      }\n",
              "    };\n",
              "\n",
              "    // Use a chunked sending to avoid message size limits. See b/62115660.\n",
              "    let position = 0;\n",
              "    do {\n",
              "      const length = Math.min(fileData.byteLength - position, MAX_PAYLOAD_SIZE);\n",
              "      const chunk = new Uint8Array(fileData, position, length);\n",
              "      position += length;\n",
              "\n",
              "      const base64 = btoa(String.fromCharCode.apply(null, chunk));\n",
              "      yield {\n",
              "        response: {\n",
              "          action: 'append',\n",
              "          file: file.name,\n",
              "          data: base64,\n",
              "        },\n",
              "      };\n",
              "\n",
              "      let percentDone = fileData.byteLength === 0 ?\n",
              "          100 :\n",
              "          Math.round((position / fileData.byteLength) * 100);\n",
              "      percent.textContent = `${percentDone}% done`;\n",
              "\n",
              "    } while (position < fileData.byteLength);\n",
              "  }\n",
              "\n",
              "  // All done.\n",
              "  yield {\n",
              "    response: {\n",
              "      action: 'complete',\n",
              "    }\n",
              "  };\n",
              "}\n",
              "\n",
              "scope.google = scope.google || {};\n",
              "scope.google.colab = scope.google.colab || {};\n",
              "scope.google.colab._files = {\n",
              "  _uploadFiles,\n",
              "  _uploadFilesContinue,\n",
              "};\n",
              "})(self);\n",
              "</script> "
            ]
          },
          "metadata": {}
        },
        {
          "output_type": "stream",
          "name": "stdout",
          "text": [
            "Saving datos_gbif.csv.csv to datos_gbif.csv (1).csv\n"
          ]
        }
      ]
    },
    {
      "cell_type": "code",
      "source": [
        "#Verificamos que el archivo se haya cargado bien\n",
        "import os\n",
        "print(os.listdir())"
      ],
      "metadata": {
        "colab": {
          "base_uri": "https://localhost:8080/"
        },
        "id": "ONDeVEgFuvSq",
        "outputId": "1d274712-3f3c-49f1-b8db-e946419c243d"
      },
      "execution_count": null,
      "outputs": [
        {
          "output_type": "stream",
          "name": "stdout",
          "text": [
            "['.config', 'datos_gbif.csv.csv', 'datos_gbif.csv (1).csv', 'sample_data']\n"
          ]
        }
      ]
    },
    {
      "cell_type": "code",
      "source": [
        "# Cargamos la librería pandas\n",
        "import pandas as pd"
      ],
      "metadata": {
        "id": "wYQvC9Y5ugBR"
      },
      "execution_count": null,
      "outputs": []
    },
    {
      "cell_type": "code",
      "source": [
        "#Especificamos el nombre del archivo y lo leemos con pandas\n",
        "archivo_csv = 'datos_gbif.csv.csv'\n",
        "\n",
        "# Leemos el archivo CSV con pandas\n",
        "datos = pd.read_csv(archivo_csv, sep='\\t')\n",
        "\n",
        "# Vemos los datos\n",
        "print(datos)"
      ],
      "metadata": {
        "colab": {
          "base_uri": "https://localhost:8080/"
        },
        "id": "NncLBGkHu-_h",
        "outputId": "8f2e2bfa-24b0-404e-a298-5f33f5896947"
      },
      "execution_count": null,
      "outputs": [
        {
          "output_type": "stream",
          "name": "stdout",
          "text": [
            "         gbifID                            datasetKey  \\\n",
            "0     857364451  db6cd9d7-7be5-4cd0-8b3c-fb6dd7446472   \n",
            "1     857364369  db6cd9d7-7be5-4cd0-8b3c-fb6dd7446472   \n",
            "2     857364341  db6cd9d7-7be5-4cd0-8b3c-fb6dd7446472   \n",
            "3     857364295  db6cd9d7-7be5-4cd0-8b3c-fb6dd7446472   \n",
            "4     857364221  db6cd9d7-7be5-4cd0-8b3c-fb6dd7446472   \n",
            "..          ...                                   ...   \n",
            "132  1434746574  d4ee3335-fad4-47f7-a575-bba0873de8a7   \n",
            "133  1434746568  d4ee3335-fad4-47f7-a575-bba0873de8a7   \n",
            "134  1434746561  d4ee3335-fad4-47f7-a575-bba0873de8a7   \n",
            "135  1434746554  d4ee3335-fad4-47f7-a575-bba0873de8a7   \n",
            "136  1419205339  9d300300-333d-4ac3-abcb-04d4b369e556   \n",
            "\n",
            "                          occurrenceID  kingdom        phylum      class  \\\n",
            "0                                  NaN  Plantae  Tracheophyta  Pinopsida   \n",
            "1                                  NaN  Plantae  Tracheophyta  Pinopsida   \n",
            "2                                  NaN  Plantae  Tracheophyta  Pinopsida   \n",
            "3                                  NaN  Plantae  Tracheophyta  Pinopsida   \n",
            "4                                  NaN  Plantae  Tracheophyta  Pinopsida   \n",
            "..                                 ...      ...           ...        ...   \n",
            "132  INIA-CIFOR:FDCC:20160601_DSC_0627  Plantae  Tracheophyta  Pinopsida   \n",
            "133  INIA-CIFOR:FDCC:20160601_DSC_0626  Plantae  Tracheophyta  Pinopsida   \n",
            "134  INIA-CIFOR:FDCC:20160601_DSC_0625  Plantae  Tracheophyta  Pinopsida   \n",
            "135  INIA-CIFOR:FDCC:20160601_DSC_0616  Plantae  Tracheophyta  Pinopsida   \n",
            "136   588ba97027516b5c1e200e5b1aba5352  Plantae  Tracheophyta  Pinopsida   \n",
            "\n",
            "       order    family  genus        species  ...            identifiedBy  \\\n",
            "0    Pinales  Pinaceae  Picea  Picea mariana  ...                     NaN   \n",
            "1    Pinales  Pinaceae  Picea  Picea mariana  ...                     NaN   \n",
            "2    Pinales  Pinaceae  Picea  Picea mariana  ...                     NaN   \n",
            "3    Pinales  Pinaceae  Picea  Picea mariana  ...                     NaN   \n",
            "4    Pinales  Pinaceae  Picea  Picea mariana  ...                     NaN   \n",
            "..       ...       ...    ...            ...  ...                     ...   \n",
            "132  Pinales  Pinaceae  Picea  Picea mariana  ...  Ángel Fernández Cancio   \n",
            "133  Pinales  Pinaceae  Picea  Picea mariana  ...  Ángel Fernández Cancio   \n",
            "134  Pinales  Pinaceae  Picea  Picea mariana  ...  Ángel Fernández Cancio   \n",
            "135  Pinales  Pinaceae  Picea  Picea mariana  ...  Ángel Fernández Cancio   \n",
            "136  Pinales  Pinaceae  Picea  Picea mariana  ...    Z. Debreczy; I. Rácz   \n",
            "\n",
            "    dateIdentified       license  \\\n",
            "0              NaN  CC_BY_NC_4_0   \n",
            "1              NaN  CC_BY_NC_4_0   \n",
            "2              NaN  CC_BY_NC_4_0   \n",
            "3              NaN  CC_BY_NC_4_0   \n",
            "4              NaN  CC_BY_NC_4_0   \n",
            "..             ...           ...   \n",
            "132            NaN     CC_BY_4_0   \n",
            "133            NaN     CC_BY_4_0   \n",
            "134            NaN     CC_BY_4_0   \n",
            "135            NaN     CC_BY_4_0   \n",
            "136            NaN     CC_BY_4_0   \n",
            "\n",
            "                                          rightsHolder  \\\n",
            "0                                                  NaN   \n",
            "1                                                  NaN   \n",
            "2                                                  NaN   \n",
            "3                                                  NaN   \n",
            "4                                                  NaN   \n",
            "..                                                 ...   \n",
            "132                                                NaN   \n",
            "133                                                NaN   \n",
            "134                                                NaN   \n",
            "135                                                NaN   \n",
            "136  Comisión Nacional para el Conocimiento y Uso d...   \n",
            "\n",
            "                 recordedBy typeStatus establishmentMeans  \\\n",
            "0                       NaN        NaN                NaN   \n",
            "1                       NaN        NaN                NaN   \n",
            "2                       NaN        NaN                NaN   \n",
            "3                       NaN        NaN                NaN   \n",
            "4                       NaN        NaN                NaN   \n",
            "..                      ...        ...                ...   \n",
            "132  Ángel Fernández Cancio        NaN                NaN   \n",
            "133  Ángel Fernández Cancio        NaN                NaN   \n",
            "134  Ángel Fernández Cancio        NaN                NaN   \n",
            "135  Ángel Fernández Cancio        NaN                NaN   \n",
            "136           T. Eguiluz P.        NaN                NaN   \n",
            "\n",
            "              lastInterpreted mediaType  \\\n",
            "0    2024-01-25T01:07:59.022Z       NaN   \n",
            "1    2024-01-25T01:07:59.941Z       NaN   \n",
            "2    2024-01-25T01:07:59.027Z       NaN   \n",
            "3    2024-01-25T01:07:57.600Z       NaN   \n",
            "4    2024-01-25T01:07:59.161Z       NaN   \n",
            "..                        ...       ...   \n",
            "132  2024-01-25T00:52:43.504Z       NaN   \n",
            "133  2024-01-25T00:52:43.507Z       NaN   \n",
            "134  2024-01-25T00:52:43.509Z       NaN   \n",
            "135  2024-01-25T00:52:40.083Z       NaN   \n",
            "136  2024-04-11T19:37:28.822Z       NaN   \n",
            "\n",
            "                                                 issue  \n",
            "0    COORDINATE_ROUNDED;GEODETIC_DATUM_ASSUMED_WGS8...  \n",
            "1    COORDINATE_ROUNDED;GEODETIC_DATUM_ASSUMED_WGS8...  \n",
            "2    COORDINATE_ROUNDED;GEODETIC_DATUM_ASSUMED_WGS8...  \n",
            "3    COORDINATE_ROUNDED;GEODETIC_DATUM_ASSUMED_WGS8...  \n",
            "4    COORDINATE_ROUNDED;GEODETIC_DATUM_ASSUMED_WGS8...  \n",
            "..                                                 ...  \n",
            "132                 CONTINENT_DERIVED_FROM_COORDINATES  \n",
            "133                 CONTINENT_DERIVED_FROM_COORDINATES  \n",
            "134                 CONTINENT_DERIVED_FROM_COORDINATES  \n",
            "135                 CONTINENT_DERIVED_FROM_COORDINATES  \n",
            "136  TAXON_MATCH_SCIENTIFIC_NAME_ID_IGNORED;TAXON_M...  \n",
            "\n",
            "[137 rows x 50 columns]\n"
          ]
        }
      ]
    },
    {
      "cell_type": "code",
      "source": [
        "#Transformamos a CSV\n",
        "datos.to_csv('datos_transformados.csv', index=False)"
      ],
      "metadata": {
        "id": "NUrqyUA0v3XC"
      },
      "execution_count": null,
      "outputs": []
    },
    {
      "cell_type": "code",
      "source": [
        "from google.colab import files\n",
        "files.download('datos_transformados.csv')"
      ],
      "metadata": {
        "colab": {
          "base_uri": "https://localhost:8080/",
          "height": 17
        },
        "id": "DOd5wiR2whBQ",
        "outputId": "39c8a7e6-00e1-4d89-80c5-e7ab970f2b15"
      },
      "execution_count": null,
      "outputs": [
        {
          "output_type": "display_data",
          "data": {
            "text/plain": [
              "<IPython.core.display.Javascript object>"
            ],
            "application/javascript": [
              "\n",
              "    async function download(id, filename, size) {\n",
              "      if (!google.colab.kernel.accessAllowed) {\n",
              "        return;\n",
              "      }\n",
              "      const div = document.createElement('div');\n",
              "      const label = document.createElement('label');\n",
              "      label.textContent = `Downloading \"${filename}\": `;\n",
              "      div.appendChild(label);\n",
              "      const progress = document.createElement('progress');\n",
              "      progress.max = size;\n",
              "      div.appendChild(progress);\n",
              "      document.body.appendChild(div);\n",
              "\n",
              "      const buffers = [];\n",
              "      let downloaded = 0;\n",
              "\n",
              "      const channel = await google.colab.kernel.comms.open(id);\n",
              "      // Send a message to notify the kernel that we're ready.\n",
              "      channel.send({})\n",
              "\n",
              "      for await (const message of channel.messages) {\n",
              "        // Send a message to notify the kernel that we're ready.\n",
              "        channel.send({})\n",
              "        if (message.buffers) {\n",
              "          for (const buffer of message.buffers) {\n",
              "            buffers.push(buffer);\n",
              "            downloaded += buffer.byteLength;\n",
              "            progress.value = downloaded;\n",
              "          }\n",
              "        }\n",
              "      }\n",
              "      const blob = new Blob(buffers, {type: 'application/binary'});\n",
              "      const a = document.createElement('a');\n",
              "      a.href = window.URL.createObjectURL(blob);\n",
              "      a.download = filename;\n",
              "      div.appendChild(a);\n",
              "      a.click();\n",
              "      div.remove();\n",
              "    }\n",
              "  "
            ]
          },
          "metadata": {}
        },
        {
          "output_type": "display_data",
          "data": {
            "text/plain": [
              "<IPython.core.display.Javascript object>"
            ],
            "application/javascript": [
              "download(\"download_30f34387-d26e-49aa-8810-c5ab85ab23e1\", \"datos_transformados.csv\", 66730)"
            ]
          },
          "metadata": {}
        }
      ]
    }
  ]
}